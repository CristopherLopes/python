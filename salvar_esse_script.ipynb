{
 "cells": [
  {
   "cell_type": "code",
   "execution_count": null,
   "metadata": {},
   "outputs": [],
   "source": [
    "a=1\n",
    "b=2\n",
    "c=3"
   ]
  },
  {
   "cell_type": "code",
   "execution_count": null,
   "metadata": {
    "scrolled": false
   },
   "outputs": [],
   "source": [
    "d=a+b\n",
    "print(d)"
   ]
  },
  {
   "cell_type": "markdown",
   "metadata": {},
   "source": [
    "Exemplo de célula Markdown, utilizada para comentários."
   ]
  },
  {
   "cell_type": "markdown",
   "metadata": {},
   "source": [
    "# Tipos de dados em Python:\n",
    "## Numéricos:\n",
    "### inteiro: int /valor numérico sem casa decimal Ex.: 1982\n",
    "### real/ponto flutiante: float /numérico com casa decimal Ex.: 3.14 OBS.: utilizar \".\" para números e não \",\"\n",
    "## Não Numéricos:\n",
    "### caractere/string: str /letras, textos ou \"1984\" Ex.: a, b, casa, \"1982\"\n",
    "### lógico ou booleano: bool /True ou False\n"
   ]
  },
  {
   "cell_type": "code",
   "execution_count": null,
   "metadata": {},
   "outputs": [],
   "source": [
    "d=a+3.14\n",
    "d"
   ]
  },
  {
   "cell_type": "code",
   "execution_count": null,
   "metadata": {},
   "outputs": [],
   "source": [
    "print(\"1985dia\")"
   ]
  },
  {
   "cell_type": "code",
   "execution_count": null,
   "metadata": {},
   "outputs": [],
   "source": [
    "d<1000"
   ]
  },
  {
   "cell_type": "code",
   "execution_count": null,
   "metadata": {},
   "outputs": [],
   "source": [
    "print(\"f\"+\"t\")"
   ]
  },
  {
   "cell_type": "markdown",
   "metadata": {},
   "source": [
    "# Identificadores\n",
    "\n",
    "### Regras para nomear/identificar variáveis, constantes e funções\n",
    "\n",
    "### Utilizar letras de A a Z maiúsculas e minúsculas;\n",
    "### Dígitos de 0 a 9;\n",
    "### Símbulo underscore _\n",
    "\n",
    "### Deve começar com uma letra ou com _\n",
    "\n",
    "### Não deve conter espaços, caracteres especiais ou espaços;\n",
    "### Pythton é case-sensitive, nota != Nota;\n",
    "\n",
    "### Ex. válido: J, Dia_2, Data, A17;\n",
    "### Ex. não válidos: Maçã, nome-user, 7User@;\n",
    "\n",
    "### Boa prática, os identificadores devem ser simples e descrever precisamente variáveis, constantes e funções;\n",
    "### Ex.: nome_user, salario, valor_inicial, \n",
    "\n",
    "### No PEP8, Guido van Rossum sugere que identificadores devem ter apenas letras munúsculas e _\n",
    "### Ex.: nome_func, nome_user, perc_aumento;\n",
    "\n",
    "\n",
    "\n",
    "\n",
    "\n",
    "\n",
    " "
   ]
  },
  {
   "cell_type": "markdown",
   "metadata": {},
   "source": [
    "## Variáveis\n",
    "\n",
    "### Espaço na memória para que o pc possa armazenar dados que podem ser utilizador posteriormente;\n",
    "### Atributos de uma variável: \n",
    "### Endereço na memória, Tipo(int, float, str, bool), identificador(nome);\n",
    "\n",
    "## Criando uma variável;\n",
    "\n",
    "### Informar nome e valor;\n",
    "### Ex.: dia = 23; nome_aluno = \"Lopes\"\n",
    "### OBS.: o tipo da variável é definido dinamicamente conforme o valor atribuído;\n",
    "### O comnado type informa o tipo da variável\n",
    "### Ex.: num_dia = 19; type(num_dia); int\n",
    "### Ex.: valor_dia = 19.50 ; type(valor_dia); float\n",
    "### Ex.: nome_dia = \"sábado\" ; type(nome_dia); str\n",
    "### Ex.: sol_dia = True ; type(valor_dia); bool"
   ]
  },
  {
   "cell_type": "code",
   "execution_count": null,
   "metadata": {},
   "outputs": [],
   "source": [
    "num_dia=19\n",
    "type(num_dia)"
   ]
  },
  {
   "cell_type": "code",
   "execution_count": null,
   "metadata": {},
   "outputs": [],
   "source": [
    "valor_dia = 19.50\n",
    "type(valor_dia)"
   ]
  },
  {
   "cell_type": "code",
   "execution_count": null,
   "metadata": {},
   "outputs": [],
   "source": [
    "nome_dia = \"sábado\"\n",
    "type(nome_dia)"
   ]
  },
  {
   "cell_type": "code",
   "execution_count": null,
   "metadata": {
    "scrolled": true
   },
   "outputs": [],
   "source": [
    "sol_dia = True\n",
    "type(sol_dia)"
   ]
  },
  {
   "cell_type": "markdown",
   "metadata": {},
   "source": [
    "## type casting Conversão de tipos\n",
    "### Conversão entre tipos de dados\n",
    "### Ex:\n",
    "### int_string = str(5)\n",
    "### string_float = float(\"3.14159\")\n",
    "### string_int = int(\"2019\")\n",
    "### int_bool = bool(17)\n",
    "### --------------------------------------------------------\n",
    "# Conversão para string(str)\n",
    "### bool_string = str(True)\n",
    "### bool_string2 = str(False)\n",
    "### int_string = str(5)\n",
    "### float_string = str(3.14159)\n",
    "### --------------------------------------------------------\n",
    "# Conversão para int\n",
    "### string_int = int(\"2019\")\n",
    "### bool_int = int(True)\n",
    "### bool_int2 = int(False)\n",
    "### float_int = int(3.14149)\n",
    "### string_int2 = int(\"101\", 2)\n",
    "### string_int3 = int(\"F0A23B\", 16)\n",
    "### --------------------------------------------------------\n",
    "# Conversão para Float\n",
    "### string_float = float(\"3.14159\")\n",
    "### string_float2 = float(\"3\")\n",
    "### bool_float = float(True)\n",
    "### bool_float2 = float(False)\n",
    "### int_float = float(15)\n",
    "### --------------------------------------------------------\n",
    "# Conversão para bool\n",
    "### string_bool = bool(\"Python\")\n",
    "### string_bool2 = bool(\"True\")\n",
    "### string_bool3 = bool(\"False\")\n",
    "### int_bool = bool(17)\n",
    "### int_bool2 = bool(0)\n",
    "### float_bool = bool(3.14)\n",
    "### float_bool2 = bool(0.0)\n",
    "### --------------------------------------------------------\n"
   ]
  },
  {
   "cell_type": "code",
   "execution_count": null,
   "metadata": {},
   "outputs": [],
   "source": [
    "# Conversão par string(str)\n",
    "bool_string = str(True)\n",
    "bool_string2 = str(False)\n",
    "int_string = str(5)\n",
    "float_string = str(3.14159)\n",
    "\n",
    "# Conversão para int\n",
    "string_int = int(\"2019\")\n",
    "bool_int = int(True)\n",
    "bool_int2 = int(False)\n",
    "float_int = int(3.14149)\n",
    "string_int2 = int(\"101\", 2)\n",
    "string_int3 = int(\"F0A23B\", 16)\n",
    "\n",
    "# Conversão para Float\n",
    "string_float = float(\"3.14159\")\n",
    "string_float2 = float(\"3\")\n",
    "bool_float = float(True)\n",
    "bool_float2 = float(False)\n",
    "int_float = float(15)\n",
    "\n",
    "# Conversão para bool\n",
    "string_bool = bool(\"Python\")\n",
    "string_bool2 = bool(\"True\")\n",
    "string_bool3 = bool(\"False\")\n",
    "int_bool = bool(17)\n",
    "int_bool2 = bool(0)\n",
    "float_bool = bool(3.14)\n",
    "float_bool2 = bool(0.0)\n"
   ]
  },
  {
   "cell_type": "code",
   "execution_count": null,
   "metadata": {},
   "outputs": [],
   "source": [
    "v=True\n",
    "x=7\n",
    "y=3.14\n",
    "z=\"11\"\n",
    "#print(x, y, z)\n",
    "print(\"v\",\"=\",v, type(v))\n",
    "print(\"x\",\"=\",x, type(x))\n",
    "print(\"y\",\"=\",y,type(y))\n",
    "print(\"z\",\"=\",z,type(z))"
   ]
  },
  {
   "cell_type": "code",
   "execution_count": null,
   "metadata": {},
   "outputs": [],
   "source": [
    "v=True\n",
    "x=7\n",
    "y=3.14\n",
    "z=\"11\"\n",
    "#print(x, y, z)\n",
    "print(\"Before v\",\"=\",v, type(v))\n",
    "print(\"Before x\",\"=\",x, type(x))\n",
    "print(\"Before y\",\"=\",y,type(y))\n",
    "print(\"Before z\",\"=\",z,type(z))\n",
    "print()\n",
    "v=int(v)\n",
    "x=bool(x)\n",
    "y=str(y)\n",
    "z=float(z)\n",
    "print(\"After v\",\"=\",v, type(v))\n",
    "print(\"After x\",\"=\",x, type(x))\n",
    "print(\"After y\",\"=\",y, type(y))\n",
    "print(\"After z\",\"=\",z, type(z))"
   ]
  },
  {
   "cell_type": "code",
   "execution_count": null,
   "metadata": {
    "scrolled": true
   },
   "outputs": [],
   "source": [
    "#testes de conversão\n",
    "teste = \"777t\"\n",
    "print(teste, type(teste))\n",
    "teste=bool(teste)\n",
    "print(teste,type(teste))"
   ]
  },
  {
   "cell_type": "markdown",
   "metadata": {},
   "source": [
    "## valor > 0 True, valor < 0 False\n",
    "## valor str convertido para bool, sempre será True\n",
    "## valor float convertido para int perde as casas após o \".\" de 3.14 == 3    \n",
    "## valor float convertido para int perde as casas após o \".\" de 3.14 == 3"
   ]
  },
  {
   "cell_type": "markdown",
   "metadata": {},
   "source": [
    "## Comentários\n",
    "### --------------------------------------------------\n",
    "### Comentário de bloco;\n",
    "### Ex.: #comentário de bloco\n",
    "###         comando1\n",
    "###         comando2\n",
    "###         comando...\n",
    "### --------------------------------------------------\n",
    "### comando x #comentário de linha\n",
    "### --------------------------------------------------\n",
    "### #comentário de várias linhas\n",
    "### #linha 2\n",
    "### #linha...\n",
    "### --------------------------------------------------\n",
    "### \"\"\"\n",
    "### comentário comentário comentário \n",
    "### comentário comentário comentário \n",
    "### comentário comentário comentário \n",
    "### \"\"\"\n",
    "### --------------------------------------------------"
   ]
  },
  {
   "cell_type": "code",
   "execution_count": null,
   "metadata": {},
   "outputs": [],
   "source": [
    "# exemplo de comentário de bloco\n",
    "a = 1\n",
    "b = 2"
   ]
  },
  {
   "cell_type": "code",
   "execution_count": null,
   "metadata": {},
   "outputs": [],
   "source": [
    "c = 3 # exemplode comentário de linha"
   ]
  },
  {
   "cell_type": "code",
   "execution_count": null,
   "metadata": {},
   "outputs": [],
   "source": [
    "# exemplo de comentário em várias linhas\n",
    "# exemplo de comentário em várias linhas\n",
    "# exemplo de comentário em várias linhas"
   ]
  },
  {
   "cell_type": "code",
   "execution_count": null,
   "metadata": {},
   "outputs": [],
   "source": [
    "'''\n",
    "Comentário Comentário Comentário \n",
    "Comentário Comentário Comentário \n",
    "Comentário Comentário Comentário\n",
    "'''\n",
    "d=4\n",
    "print(d)\n",
    "type(d)"
   ]
  },
  {
   "cell_type": "markdown",
   "metadata": {},
   "source": [
    "## Listas\n",
    "\n",
    "### Devem ser criadas entre [ ];\n",
    "### Também podem ser criadas com o comando x_1 = list(), a lista x_1 será criada, mas sem elementos;\n",
    "### Pode conter int, float, bool e str;\n",
    "### Valores str sempre entre \" \"; \n",
    "### Coleção de valores;\n",
    "### Parecido com Vetor, mas pode ser alterada;\n",
    "### A posição de cada elemento é chamada de índice;\n",
    "### Primeiro elemento armazenado no índice \"0\", o último \"n-1\";\n",
    "### \"n\" é o númeero de elementos da lista;\n",
    "### -------------------------------------------------------\n",
    "### índice           0    1    2  3   4    5     6     7\n",
    "### elementos  23  56  7  8  90  25  13  -33\n",
    "### índice          -8   -7  -6 -5 -4   -3    -2    -1\n",
    "### -------------------------------------------------------\n",
    "### Os elementos da lista podem ser acessados pelos índices \"positivos\" ou \"negativos\";"
   ]
  },
  {
   "cell_type": "code",
   "execution_count": null,
   "metadata": {},
   "outputs": [],
   "source": [
    "lst_1 = [1,2,3,\"a\",5,6,-7,True]\n",
    "print(lst_1)\n",
    "type(lst_1)\n",
    "print(\"Elementos de lst_1\", lst_1, type(lst_1))"
   ]
  },
  {
   "cell_type": "code",
   "execution_count": null,
   "metadata": {},
   "outputs": [],
   "source": [
    "lst_2=[]\n",
    "lst_3=list()\n",
    "print(lst_2)\n",
    "print(lst_3)\n",
    "print(\"lst_2\", type(lst_2))\n",
    "print(\"lst_3\", type(lst_3))"
   ]
  },
  {
   "cell_type": "code",
   "execution_count": null,
   "metadata": {},
   "outputs": [],
   "source": [
    "lst_4=list()\n",
    "print(lst_4)"
   ]
  },
  {
   "cell_type": "code",
   "execution_count": null,
   "metadata": {},
   "outputs": [],
   "source": [
    "lst_int=[-7,-6,-5,-4,-3,-2,-1,0,1,2,3,4,5,6,7]\n",
    "lst_float=[-7.3,-7.2,-7.1,7.7]\n",
    "lst_str=[\"a\",\"b\",\"c\",\"d\",\"e\",\"f\"]\n",
    "lst_bool=[True, False, True, False, True]\n",
    "lst_mist=[-7,7,-3.7,3.14159,\"a\",True,False,[True, False,7]]\n",
    "#lst_lst é um exemplo de lista aninhada;\n",
    "lst_lst=[[-7,-6,-5,-4],[-7.2,-7.1,7],[\"a\",\"b\",\"c\",\"d\"],[True, False, True]]\n",
    "print(lst_int)\n",
    "print(lst_float)\n",
    "print(lst_str)\n",
    "print(lst_bool)\n",
    "print(lst_mist)\n",
    "print(lst_lst)\n",
    "#type(lst_mist)"
   ]
  },
  {
   "cell_type": "code",
   "execution_count": null,
   "metadata": {},
   "outputs": [],
   "source": [
    "t1=lst_int+lst_bool\n",
    "print(t1)\n",
    "type(t1)"
   ]
  },
  {
   "cell_type": "markdown",
   "metadata": {},
   "source": [
    "### nome_lista(): retorna o elemento conforme vetor/parâmetro, OBS.: -1 sempre retorna o ultimo elemento;\n",
    "### append(): inserir elemento no final da lista;\n",
    "### clear(): limpar a lista;\n",
    "### copy(): copiar um elemento de uma lista para outra;\n",
    "### count(): contar a quantidade de vezes que determinado elemento aparece na lista;\n",
    "### extend(): forma correta de adicionar uma lista a outra;\n",
    "### index(): retorna a posição de um elemento na lista;\n",
    "### insert(): adiciona um elemento em qualquer posição – caso a posição não exista ele vai inserir o elemento na última posição;\n",
    "### pop(): remove um elemento da lista – o índice é o parâmetro;\n",
    "### remove(): remove um elemento da lista – o elemento é o parâmetro;\n",
    "### reverse(): inverter elementos da lista;\n",
    "### sort(): ordena os elementos da lista – não permite ordenar listas de elementos de tipos distintos;\n",
    "### max(): retorna o maior elemento de uma lista;\n",
    "### min(): retorna o menor elemento de um lista;\n",
    "### sum(): retorna a soma dos elementos de uma lista numérica;\n",
    "### len(): restorna o número de elementos na lista;"
   ]
  },
  {
   "cell_type": "code",
   "execution_count": null,
   "metadata": {},
   "outputs": [],
   "source": [
    "#retorna o número de elementos na lista\n",
    "len(lst_int)"
   ]
  },
  {
   "cell_type": "code",
   "execution_count": null,
   "metadata": {},
   "outputs": [],
   "source": [
    "#Acesso a um elemento da lista\n",
    "# -1 sempre retorna o ultimo elemento\n",
    "lst_int=[-7,-6,-5,-4,-3,-2,-1,0,1,2,3,4,5,6,7]\n",
    "print(lst_int[-1])\n",
    "lst_int[14]"
   ]
  },
  {
   "cell_type": "code",
   "execution_count": null,
   "metadata": {},
   "outputs": [],
   "source": [
    "lst_mist=[-7,7,-3.7,3.14159,\"a\",True,False,[True, False,7]]\n",
    "#retorna um elemento dentro de outro elemento\n",
    "#funciona para uma lista dentro de outra lista\n",
    "#lst_mist[-1][-1]\n",
    "print(\"Lista completa:\",lst_mist)\n",
    "print(\"Ultimo elemento, lista mista:\", lst_mist[-1])\n",
    "print(\"Ultimo elemento do elemento lista:\", lst_mist[-1][2])\n",
    "\n"
   ]
  },
  {
   "cell_type": "code",
   "execution_count": null,
   "metadata": {},
   "outputs": [],
   "source": [
    "#Acessando uma \"parte\" de um elemento, lista com str\n",
    "#Retorna do elemento índice zero, o índice um\n",
    "lst_h=[\"Mês\",\"dia\",\"ano\"]\n",
    "lst_h\n",
    "lst_h[0][1]"
   ]
  },
  {
   "cell_type": "markdown",
   "metadata": {},
   "source": [
    "### Modificando elementos de uma lista;\n",
    "### lista[x]=y\n",
    "### "
   ]
  },
  {
   "cell_type": "code",
   "execution_count": null,
   "metadata": {},
   "outputs": [],
   "source": [
    "#defina a lista, o elemento e o novo valor\n",
    "list_mod=[1,2,3,4,5,6,7,8]\n",
    "print(\"Valores da list_mod:\",list_mod)\n",
    "print(\"Sexto elemento original da list_mod:\",list_mod[6])\n",
    "list_mod[6]=777\n",
    "print(\"Sexto elemento modificado:\", list_mod[6])\n"
   ]
  },
  {
   "cell_type": "code",
   "execution_count": null,
   "metadata": {},
   "outputs": [],
   "source": [
    "lst_a=[1,2,3,4,5]\n",
    "lst_b=[6,7,8,9,10]\n",
    "lst_soma=[7,8,3]\n",
    "print(lst_soma)\n",
    "#Elemento índice 2 recebe a somas dos elementos de índice 4 das listas lst_a \"5\" e lst_b \"10\"\n",
    "lst_soma[2]=lst_a[4]+lst_b[4]\n",
    "lst_soma\n",
    "lst_soma[1]=lst_a[3]+lst_b[2]\n",
    "lst_soma"
   ]
  },
  {
   "cell_type": "code",
   "execution_count": null,
   "metadata": {},
   "outputs": [],
   "source": [
    "lst_e=[\"mês\",\"dia\",\"ano\"]\n",
    "lst_f=[\"3\",\"23\",\"1982\"]\n",
    "lst_lopes=lst_e+lst_f\n",
    "print(lst_lopes)\n",
    "lst_lop=(lst_e[1]+lst_f[1])+(lst_e[1]+lst_f[1])\n",
    "print(lst_lop)\n",
    "print(len(lst_lop))\n",
    "print(lst_lop[0])\n",
    "print(lst_lop[1])"
   ]
  },
  {
   "cell_type": "markdown",
   "metadata": {},
   "source": [
    "## Principais métodos tratamento de listas\n",
    "### lista.append(), adiciona um elemento no fim da lista;\n",
    "### lista.clear(), remove todos os elementos da lista;\n",
    "### listax=listax.copy(), copia os elementos de uma lista para outra;\n",
    "### count(), retorna o número de vezes que o elemento ocorre em uma lista;\n",
    "### extend(), utilizado para incluir dois ou mais elementos em uma lista;\n",
    "### index(), retorna o índice do elemento informado;\n",
    "### insert(), adiciona um elemento em uma posição específica;\n",
    "### pop(), remove o elemento segundo o índice informado;\n",
    "### remove(), remove o elemento informado;\n",
    "### reverse(), inverte a ordem dos elementos de uma lista;\n",
    "### sot(), organiza os elementos de uma lista;\n",
    "## Funções aplicávies a uma lista\n",
    "### len(), retorna o total de elemntos de uma lista;\n",
    "### max(), retorna o maior valor de uma lista;\n",
    "### min(), retorna o menor valor de uma lista;\n",
    "### sum(), retorna o somatório dos elementos de uma lista;\n"
   ]
  },
  {
   "cell_type": "code",
   "execution_count": null,
   "metadata": {},
   "outputs": [],
   "source": [
    "#lista.append()\n",
    "lst_p=[1,2,3,4,5,6]\n",
    "print(\"lst_p antes de receber novo elemento(7) com o comando append():\",lst_p)\n",
    "lst_p.append(7)\n",
    "print(\"lst_p após de receber novo elemento com o comando append():\",lst_p)"
   ]
  },
  {
   "cell_type": "code",
   "execution_count": null,
   "metadata": {},
   "outputs": [],
   "source": [
    "#lista.clear()\n",
    "lst_h=[1,2,3,4]\n",
    "print(\"Lista original:\",lst_h)\n",
    "print(\"Número de elementos da lista original:\",len(lst_h))\n",
    "lst_h.clear()\n",
    "print(\"Lista após o comando clear():\",lst_h)\n",
    "print(\"Número de elementos após o comando clear():\",len(lst_h))\n"
   ]
  },
  {
   "cell_type": "code",
   "execution_count": null,
   "metadata": {},
   "outputs": [],
   "source": [
    "#listax=listay.copy()\n",
    "lst_9=[\"d\",\"e\",\"f\"]\n",
    "lst_99=lst_9.copy()\n",
    "print(lst_99)\n",
    "print(lst_9)\n",
    "lst_9.append(\"g\")\n",
    "print(lst_9)\n"
   ]
  },
  {
   "cell_type": "code",
   "execution_count": null,
   "metadata": {},
   "outputs": [],
   "source": [
    "#comando copy() não é o mesmo que \"=\" listax=listay\n",
    "#caso alguma alteração seja feita em listay será replicada em listax ou listax em listay\n",
    "print(\"Abaixo exemplo de distinção entre y=x e y=copy(x):\")\n",
    "print()\n",
    "print(\"listay=listax\")\n",
    "print()\n",
    "listax=[1,2,3,4,5]\n",
    "print('listax original:', listax)\n",
    "listay=listax\n",
    "print(\"listay original:\",listay)\n",
    "listax.append(777)\n",
    "print()\n",
    "print(\"listax após append():\", listax)\n",
    "print(\"listay após append() em listax:\", listay)\n",
    "listay.append(999)\n",
    "print()\n",
    "print(\"listay após append():\", listay)\n",
    "print(\"listax após append() em listay:\", listax)\n",
    "print()\n",
    "print(\"listay=listax.copy()\")\n",
    "print()\n",
    "listax=[1,2,3,4,5]\n",
    "print('listax original:', listax)\n",
    "listay=listax.copy()\n",
    "print('listay original:', listay)\n",
    "listax.append(777)\n",
    "print()\n",
    "print(\"listax após append():\", listax)\n",
    "print(\"listay após append() em listax:\", listay)\n",
    "listay.append(999)\n",
    "print()\n",
    "print(\"listay após append():\", listay)\n",
    "print(\"listax após append() em listay:\", listax)\n",
    "print()\n",
    "listax=[1,2,3,4,5]\n",
    "print(\"O comando copy() faz uma cópia dos dos elementos de uma lista para outra, mas ambas serão independentes.\")\n"
   ]
  },
  {
   "cell_type": "code",
   "execution_count": null,
   "metadata": {},
   "outputs": [],
   "source": [
    "#listax.count(y)\n",
    "lista_dias=[23,23,24,25,25,26,26,27,28,28,28,28,29]\n",
    "print(\"lista_dias:\", lista_dias)\n",
    "print('Total de elementos na lista:', len(lista_dias))\n",
    "#print('Total de elementos na lista:', sun(lista_dias))\n",
    "print(\"Número de vezes que o elemento 23 aparece na lista:\", lista_dias.count(23))\n",
    "print(\"Número de vezes que o elemento 24 aparece na lista:\", lista_dias.count(24))\n",
    "print(\"Número de vezes que o elemento 25 aparece na lista:\", lista_dias.count(25))\n",
    "print(\"Número de vezes que o elemento 26 aparece na lista:\", lista_dias.count(26))\n",
    "print(\"Número de vezes que o elemento 27 aparece na lista:\", lista_dias.count(27))\n",
    "print(\"Número de vezes que o elemento 28 aparece na lista:\", lista_dias.count(28))\n",
    "print(\"Número de vezes que o elemento 29 aparece na lista:\", lista_dias.count(29))\n",
    "print(\"Número de vezes que o elemento 30 aparece na lista:\", lista_dias.count(30))"
   ]
  },
  {
   "cell_type": "code",
   "execution_count": null,
   "metadata": {},
   "outputs": [],
   "source": [
    "a=~4\n",
    "b=a+4\n",
    "print(b)"
   ]
  },
  {
   "cell_type": "code",
   "execution_count": null,
   "metadata": {},
   "outputs": [],
   "source": [
    "#lista.extend([x,y,z,...])\n",
    "list_ext=[3,4,5,6]\n",
    "print(list_ext)\n",
    "list_ext.extend([7,8,9,10])\n",
    "print(list_ext)"
   ]
  },
  {
   "cell_type": "code",
   "execution_count": null,
   "metadata": {},
   "outputs": [],
   "source": [
    "# index()\n",
    "# retorna o vetor do elemento informado\n",
    "# em caso de repetição do elemento, apenas a primeira posição será informada\n",
    "\n",
    "list_ext1=[1,2,3,4,5,1,6,3,7,1,9]\n",
    "print(list_ext1)\n",
    "print(list_ext1.index(1))\n",
    "print(list_ext1.index(2))\n",
    "#print(list_ext1.index(3))\n",
    "#print(list_ext1.index(4))\n",
    "#print(list_ext1.index(5))\n",
    "#print(list_ext1.index(1))\n",
    "#print(list_ext1.index(6))\n",
    "#print(list_ext1.index(3))\n",
    "print(list_ext1.index(7))\n",
    "print(list_ext1.index(1))\n",
    "print(list_ext1.index(9))\n",
    "print()\n",
    "# podemos armazenar o valor do índice em uma variável\n",
    "print(\"Armazenando o valor de um índice.\")\n",
    "l13=[1,2,3]\n",
    "print(\"Elementos de l13:\",l13)\n",
    "l13.index(2)\n",
    "l14=(l13.index(2))\n",
    "print(\"l14 recebe o valor do índice do elemento 2 de l13. Índice:\", l14)"
   ]
  },
  {
   "cell_type": "code",
   "execution_count": null,
   "metadata": {},
   "outputs": [],
   "source": [
    "print()\n",
    "l15=[7,\"a\",3.14,True]\n",
    "print(\"Elementos de l15:\", l15)\n",
    "print(\"Elemento 7, índice:\", l15.index(7))\n",
    "print(\"Elemento a, índice:\", l15.index(\"a\"))\n",
    "print(\"Elemento 3.14, índice:\", l15.index(3.14))\n",
    "print(\"Elemento True, índice:\", l15.index(True))"
   ]
  },
  {
   "cell_type": "code",
   "execution_count": null,
   "metadata": {},
   "outputs": [],
   "source": [
    "# x.insert(índice, elemento)\n",
    "# caso o índice não exista, o novo elemento será inserio no final da lista\n",
    "l16=[1,2,3]\n",
    "print(\"l16 original:\", l16)\n",
    "l16.insert(0,777)\n",
    "print(\"l16 após x.insert(índice,elemento):\", l16)\n",
    "l16.insert(50,999)\n",
    "print(\"l16.insert(50,999)\")\n",
    "print(\"Inserindo elemento em índice inexitente, será adicionado no fim da lista.\", l16)"
   ]
  },
  {
   "cell_type": "code",
   "execution_count": null,
   "metadata": {},
   "outputs": [],
   "source": [
    "# x.pop(índice)\n",
    "# -1 indica o último elemento da lista\n",
    "l17=[6,7,8,9,10]\n",
    "print(l17)\n",
    "l17.pop(0)\n",
    "print(\"l17 após remoção do elemento do índice 0:\",l17)\n",
    "l17.pop(-1)\n",
    "print(\"l17 após remoção do elemento do índice -1:\",l17)\n"
   ]
  },
  {
   "cell_type": "code",
   "execution_count": null,
   "metadata": {},
   "outputs": [],
   "source": [
    "# x.remove(elemento)\n",
    "# em caso de elemento repetido, apenas o primeiro será removido\n",
    "l18=[4,7,8,1,3,4,4,5,6]\n",
    "print(l18)\n",
    "l18.remove(4)\n",
    "print(l18)"
   ]
  },
  {
   "cell_type": "code",
   "execution_count": null,
   "metadata": {},
   "outputs": [],
   "source": [
    "# lista.reverse()\n",
    "#\n",
    "\n",
    "l19=[1,2,3,\"a\",4,5,6,7,8]\n",
    "print(l19)\n",
    "l19.reverse()\n",
    "print(l19)"
   ]
  },
  {
   "cell_type": "code",
   "execution_count": null,
   "metadata": {},
   "outputs": [],
   "source": [
    "# lista.sort()\n",
    "# ordem crescente por default\n",
    "# para ordem decrescente informar (reverse=True)\n",
    "# lista.sort(reverse=True)\n",
    "# não funciona em listas mistas\n",
    "l20=[1,7,4,9,0,3,4,5,5,6,2,8,9]\n",
    "print(l20)\n",
    "l20.sort()\n",
    "print(l20)\n",
    "print()\n",
    "l21=[9,8,3,4,5,6,1,2,3,88,5,999,3,1,2]\n",
    "print(l21)\n",
    "l21.sort(reverse=True)\n",
    "print(l21)"
   ]
  },
  {
   "cell_type": "code",
   "execution_count": null,
   "metadata": {},
   "outputs": [],
   "source": [
    "# len(), retorna o total de elemntos de uma lista;\n",
    "# funciona comm listas mistas\n",
    "print(l20)\n",
    "print(\"Total de elementos na lista l20:\",len(l20), \"elementos\")\n",
    "\n",
    "# max(), retorna o maior valor de uma lista;\n",
    "# não funciona com listas mistas\n",
    "# True > False, 1>0\n",
    "print(\"Maior elemento de l20:\", max(l20))\n",
    "\n",
    "# min(), retorna o menor valor de uma lista;\n",
    "# não funciona com listas mistas\n",
    "# False < True, 0 < 1\n",
    "print(\"Menor elemento de l20:\", min(l20))\n",
    "\n",
    "# sum(), retorna o somatório dos elementos de uma lista;\n",
    "# não funciona com listas mistas, apenas int ou float\n",
    "print(\"Somatório dos elementos de l20:\", sum(l20))\n",
    "\n",
    "\n",
    "l21=[True, False]\n",
    "min(l21)\n"
   ]
  },
  {
   "cell_type": "markdown",
   "metadata": {},
   "source": [
    "## TUPLA _SER IMUTÁVEL"
   ]
  },
  {
   "cell_type": "code",
   "execution_count": null,
   "metadata": {},
   "outputs": [],
   "source": [
    "# criação de tupla, entre ()\n",
    "# criação de tupla com o \"comando\" tuple\n",
    "t1=(1,2,3,4,5,6)\n",
    "print(\"t1:\",t1)\n",
    "print(\"Tipo:\",type(t1))\n",
    "t2=tuple()\n",
    "print(\"t2:\",t2)\n",
    "print(\"Tipo:\",type(t2))"
   ]
  },
  {
   "cell_type": "code",
   "execution_count": null,
   "metadata": {},
   "outputs": [],
   "source": [
    "# estudar esse comando\n",
    "isinstance(t1,tuple)"
   ]
  },
  {
   "cell_type": "code",
   "execution_count": null,
   "metadata": {},
   "outputs": [],
   "source": [
    "# len(), verificar número de elementos da tupla\n",
    "print(t1)\n",
    "print(len(t1))\n",
    "print(t2)\n",
    "print(len(t2))"
   ]
  },
  {
   "cell_type": "code",
   "execution_count": null,
   "metadata": {},
   "outputs": [],
   "source": [
    "t3=(3,5,6,7,9,12,13,17,20)\n",
    "print(t3)\n",
    "# tupla mista, tupla aninhada\n",
    "t4=(7,9,3,5,\"tupla\",(1,2,3))\n",
    "print(t4)\n",
    "# tupla mista, lista aninhada\n",
    "t5=(0,8,6,4,\"lista\",[1,2,3])\n",
    "print(t5)\n"
   ]
  },
  {
   "cell_type": "code",
   "execution_count": null,
   "metadata": {},
   "outputs": [],
   "source": [
    "# Acessar elementos da tupla, tupla[índice]\n",
    "print(\"Elemnto alocado no índice 0 da tupla t3:\",t3[0])\n",
    "print(\"Elemnto alocado no índice 4 da tupla t4:\",t4[4])\n",
    "print(\"Elemnto alocado no índice 5 da tupla t5:\",t5[5])"
   ]
  },
  {
   "cell_type": "code",
   "execution_count": null,
   "metadata": {},
   "outputs": [],
   "source": [
    "# erro ao tentar mudar elementos em t3, tuplas são imutáveis.\n",
    "# TypeError: 'tuple' object does not support item assignment\n",
    "# mesmo erro ao tentar modificar uma tupla aninhada em uma tupla\n",
    "t3[0]=8\n"
   ]
  },
  {
   "cell_type": "code",
   "execution_count": null,
   "metadata": {},
   "outputs": [],
   "source": [
    "# modificanro lista aninhada em tupla t5\n",
    "print(\"Elementos da tupla t5:\",t5)\n",
    "print(\"Elemento índice -1 ou 5, t5:\",t5[-1])\n",
    "print(\"Elento índice 1 do elemento índice 5 de t5:\",t5[5][1])\n",
    "t5[5][1]=(777)\n",
    "print(t5[5][1])\n",
    "# adicionando elemtos na lista aninhada em t5\n",
    "t5[5].extend([7,8,9])\n",
    "print(t5)\n"
   ]
  },
  {
   "cell_type": "code",
   "execution_count": null,
   "metadata": {},
   "outputs": [],
   "source": [
    "# tupla.count(elemnto)\n",
    "# retorna o número de ocorrências de um elemento\n",
    "\n",
    "t6=(1,2,3,4,5,6,6,7,8,8,8,9,1,4,6,9,9)\n",
    "print(t6)\n",
    "print(type(t6))\n",
    "print(t6.count(9))"
   ]
  },
  {
   "cell_type": "code",
   "execution_count": null,
   "metadata": {},
   "outputs": [],
   "source": [
    "# tupla.index(elemento)\n",
    "# retorna o índice de um elemento\n",
    "\n",
    "t6.index(6)\n"
   ]
  },
  {
   "cell_type": "code",
   "execution_count": null,
   "metadata": {},
   "outputs": [],
   "source": [
    "# len(tupla) retorna o número de itens de uma tupla\n",
    "print(\"len, número de elementos em t6:\",len(t6))\n",
    "# max(tupla) retorna o maior elemento da tupla\n",
    "print(\"max, maior elemento em t6:\",max(t6))\n",
    "#min(tupla) retorna o menor elemento da tupla\n",
    "print(\"min, menor elemento em t6:\",min(t6))\n",
    "#sum(tupla) retorna o somatório dos elementos da tupla\n",
    "print(\"sum, somatória dos elemento em t6:\",sum(t6))"
   ]
  },
  {
   "cell_type": "code",
   "execution_count": null,
   "metadata": {},
   "outputs": [],
   "source": [
    "# type casting\n",
    "# convertento uma tupla em lista para modificar valores, mas a original permanece imutável\n",
    "# praticamente uma cópia\n",
    "t7=(1,2,3,4,5,6)\n",
    "type(t7)\n",
    "lt7=list(t7)\n",
    "type(lt7)"
   ]
  },
  {
   "cell_type": "markdown",
   "metadata": {},
   "source": [
    "## Estruturas de Dicionário ou Mapa\n",
    "\n",
    "### Coleção de elementos com chave e valor, key Value"
   ]
  },
  {
   "cell_type": "code",
   "execution_count": null,
   "metadata": {},
   "outputs": [],
   "source": [
    "# criando dicionários vazios\n",
    "\n",
    "d1={}\n",
    "d2=dict()\n",
    "print(d1)\n",
    "print(d2)\n",
    "print(type(d1))\n",
    "print(type(d2))"
   ]
  },
  {
   "cell_type": "code",
   "execution_count": null,
   "metadata": {},
   "outputs": [],
   "source": [
    "# verificar fórmula abaixo\n",
    "# isinstance(d1, dict)\n",
    "print(isinstance(d1, dict))\n",
    "print(isinstance(d2, dict))\n"
   ]
  },
  {
   "cell_type": "code",
   "execution_count": null,
   "metadata": {},
   "outputs": [],
   "source": [
    "# criando dicionários com chave e valor\n",
    "# dicionário={chave:valor, chave:valor, chave:valor, chave:valorS}\n",
    "d3= { \"dia\":23, \"mês\":\"março\", \"ano\":1982 }\n",
    "print(\"Elementos do dicionário d3\", d3)\n",
    "d3"
   ]
  },
  {
   "cell_type": "code",
   "execution_count": null,
   "metadata": {},
   "outputs": [],
   "source": [
    "d4={3:1982, 1:23, 2:3}\n",
    "d4"
   ]
  },
  {
   "cell_type": "code",
   "execution_count": null,
   "metadata": {},
   "outputs": [],
   "source": [
    "# dicionário com listas nos valores\n",
    "\n",
    "dnotas={\"João\":[30,27,29], \"Maria\":[29,27,30], \"José\":[30,30,29]}\n",
    "dnotas"
   ]
  },
  {
   "cell_type": "code",
   "execution_count": null,
   "metadata": {},
   "outputs": [],
   "source": [
    "# dicionários aninhados\n",
    "dnotas_notas={\"João\":{\"nota1\":30,\"nota2\":27,\"nota3\":29},\n",
    "             \"Maria\":{\"nota1\":29,\"nota2\":27,\"nota3\":30},\n",
    "             \"José\":{\"nota1\":30,\"nota2\":30,\"nota3\":29}}\n",
    "dnotas_notas"
   ]
  },
  {
   "cell_type": "code",
   "execution_count": null,
   "metadata": {},
   "outputs": [],
   "source": [
    "# acessando valor por chave\n",
    "# dicionário[chave]\n",
    "print(dnotas_notas[\"João\"])\n",
    "print(dnotas[\"José\"])\n",
    "print(d4[3])\n",
    "print(d3[\"dia\"])"
   ]
  },
  {
   "cell_type": "code",
   "execution_count": null,
   "metadata": {},
   "outputs": [],
   "source": [
    "# acesso a dicionário aninhado em outro dicionário\n",
    "dnotas_notas[\"João\"][\"nota3\"]"
   ]
  },
  {
   "cell_type": "code",
   "execution_count": null,
   "metadata": {},
   "outputs": [],
   "source": [
    "# modificar valores no dicionário\n",
    "# dicionário[chave]=novo_valor\n",
    "dmod={1:\"Ana\",2:\"José\",3:\"Maria\",4:'Pedro',5:\"Joanna\"}\n",
    "dmod\n",
    "dmod[5]=\"JoanaDark\"\n",
    "dmod"
   ]
  },
  {
   "cell_type": "code",
   "execution_count": null,
   "metadata": {},
   "outputs": [],
   "source": [
    "# modificar lista aninhada em dicionários\n",
    "# dicionário[chave][índice_do_elemento]=valor_atualizado\n",
    "\n",
    "dlist={1:[1,2,3,4,5],2:[6,7,8,9,10],3:[11,12,13,14,15]}\n",
    "print(dlist)\n",
    "dlist[1] #retorna valor da chave 1\n",
    "dlist[2][1]\n",
    "dlist[3][3]=777\n",
    "print(dlist)"
   ]
  },
  {
   "cell_type": "code",
   "execution_count": null,
   "metadata": {},
   "outputs": [],
   "source": [
    "# modificar todos os valores de uma lista aninhada\n",
    "# dicionário[chave]=[x,y,z]\n",
    "dlist1={1:[1,2,3,4,5],2:[6,7,8,9,10],3:[11,12,13,14,15]}\n",
    "print(dlist1)\n",
    "dlist1[3]=[11,12,13,999,15]\n",
    "print(dlist1)"
   ]
  },
  {
   "cell_type": "markdown",
   "metadata": {},
   "source": [
    "## Métodos de um objeto dicionário\n",
    "### clear dic.clear() apaga os elementos de um dicionário;\n",
    "### copy dic_copia=dic.copy() retorna cópia dos elementos de um dicionário;\n",
    "### fromkeys dicionário=dic.fromkeys({\"key1\",\"key2\",\"key3\"}) retorna um dicionário segundo chaves informadas;\n",
    "### get dic.get(\"k1\") retorna valores associados a uma chave;\n",
    "### items dic.items() retorna visão dos pares chave/valor de um dicionário;\n",
    "### keys dic.keys() retorna viãos das chaves de um dicionário;\n",
    "### pop dic.pop(2) remove e retora o elemento associado à chave informada, erro se a chave não existir;\n",
    "### popitem dic.popitem() remove e retorna o último elemento adicionado ao dicionário;\n",
    "### setdefault dic.setdefault(2,\"dois\") retorna o valor associado a uma chave(caso exista), em negativa insere a chave com o valor informado(opcional);\n",
    "### update dic.update(dic2) adiciona ao dicionário os pares de chaves/valor de outro dicionário passado pr parâmetro;\n",
    "### values dic.values() retorna uma visão dos valores de um dicionário;"
   ]
  },
  {
   "cell_type": "code",
   "execution_count": null,
   "metadata": {},
   "outputs": [],
   "source": [
    "# apagar elemntos de um dicionário\n",
    "# dicionário.clear()\n",
    "\n",
    "d_1={1:111,2:222,3:333}\n",
    "print(d_1)\n",
    "d_1.clear()\n",
    "print(d_1)"
   ]
  },
  {
   "cell_type": "code",
   "execution_count": null,
   "metadata": {},
   "outputs": [],
   "source": [
    "# copíar elementos de um dicionário para outro\n",
    "# dicionario_a = dicionario_b.copy()\n",
    "# não é necessário criar o dicionário destino antes do comando copy\n",
    "# caso algum key/value do novo dicionário seja alterado, não será refletido no dicionário original\n",
    "d_a={1:\"Ana\",2:\"Pedro\",3:\"Maria\"}\n",
    "print(\"d_a:\",d_a)\n",
    "d_b={}\n",
    "print()\n",
    "print(\"d_b:\",d_b)\n",
    "d_b=d_a.copy()\n",
    "print(\"d_b:\",d_b)\n",
    "print()\n",
    "d_b[3]=\"Joana\"\n",
    "print(\"d_b:\",d_b)\n",
    "print(\"d_a:\",d_a)\n"
   ]
  },
  {
   "cell_type": "code",
   "execution_count": null,
   "metadata": {},
   "outputs": [],
   "source": [
    "# dicionario = dict.fromkeys([x,y,z])\n",
    "# criar dicionário com as chaves informadas, valores por default serão None\n",
    "# se necessário o valor default para as chaves pode ser ajustado\n",
    "# dicionario = dict.fromkeys([1,2,3,4,5], \"teste\")\n",
    "\n",
    "d_k=dict.fromkeys([1,2,3,4,5,6,7])\n",
    "print(d_k)\n",
    "d_k1=dict.fromkeys([1,2,3,4,5,6,7], \"Teste\")\n",
    "print(d_k1)"
   ]
  },
  {
   "cell_type": "code",
   "execution_count": null,
   "metadata": {},
   "outputs": [],
   "source": [
    "# retorna o valor associado à uma chave\n",
    "# dicionario.get(chave)\n",
    "\n",
    "d5=dict.fromkeys([7,8,9],\"Mouse\")\n",
    "d5.get(9)\n",
    "\n",
    "#### "
   ]
  },
  {
   "cell_type": "code",
   "execution_count": null,
   "metadata": {},
   "outputs": [],
   "source": [
    "# retorna as chaves e valores\n",
    "# dicionario.items()\n",
    "\n",
    "d5.items()"
   ]
  },
  {
   "cell_type": "code",
   "execution_count": null,
   "metadata": {},
   "outputs": [],
   "source": [
    "# retorna as chaves de um dicionário\n",
    "# dicionario.keys()\n",
    "\n",
    "d5.keys()"
   ]
  },
  {
   "cell_type": "code",
   "execution_count": null,
   "metadata": {},
   "outputs": [],
   "source": [
    "# remove chave/valor informado\n",
    "# dicionario.pop(chave)\n",
    "\n",
    "d6={1:111,2:222,3:333}\n",
    "print(d6)\n",
    "d6.pop(2)\n",
    "print(d6)"
   ]
  },
  {
   "cell_type": "code",
   "execution_count": null,
   "metadata": {},
   "outputs": [],
   "source": [
    "# armazenar em variável valor deletato com o comando .pop()\n",
    "# variavel=dicionario.pop(chave)\n",
    "\n",
    "d7={4:444,5:555,6:666,7:777}\n",
    "print(d7)\n",
    "resgate=d7.pop(5)\n",
    "print(d7)\n",
    "print(resgate)\n",
    "print(type(resgate))"
   ]
  },
  {
   "cell_type": "code",
   "execution_count": null,
   "metadata": {
    "scrolled": true
   },
   "outputs": [],
   "source": [
    "# remover último valor/chave de um dicionário\n",
    "# dicionario.popitem()\n",
    "\n",
    "d8={4:444,5:555,6:666,7:777,8:888}\n",
    "print(d8)\n",
    "d8.popitem()\n",
    "print(d8)"
   ]
  },
  {
   "cell_type": "code",
   "execution_count": null,
   "metadata": {},
   "outputs": [],
   "source": [
    "# armazenar em variável valor deletado com o comando .popitem()\n",
    "# variavel=dicionario.popitem()\n",
    "\n",
    "d9={9:999,10:101010,11:111111,12:121212,13:131313,14:141414,15:151515}\n",
    "print(d9)\n",
    "resg=d9.popitem()\n",
    "print(d9)\n",
    "print(resg)\n",
    "print(type(resg))\n"
   ]
  },
  {
   "cell_type": "code",
   "execution_count": null,
   "metadata": {},
   "outputs": [],
   "source": [
    "# retorna o valor de uma chave, caso não exista será criada com o valor None que pose ser ajustado\n",
    "# dicionario.setdefault(chave)\n",
    "# dicionario.setdefault(chave, valor_opcional)\n",
    "\n",
    "d10={7:777,8:888,9:999,0:000}\n",
    "print(d10)\n",
    "print(d10.setdefault(7))\n",
    "d10.setdefault(5)\n",
    "print(d10)\n",
    "# abaixo setdeful com none ajustado para 444\n",
    "d10.setdefault(4,444)\n",
    "print(d10)"
   ]
  },
  {
   "cell_type": "code",
   "execution_count": null,
   "metadata": {},
   "outputs": [],
   "source": [
    "# adiciona caves/valores de um dicionário à outro\n",
    "# dicionario_b.update(dicionario_a)\n",
    "\n",
    "d11={8:\"Mês\",7:\"Dia\",9:\"Ano\"}\n",
    "print(d11)\n",
    "d12={5:\"Minuto\",4:\"Segundo\",6:\"Hora\"}\n",
    "print(d12)\n",
    "d12.update(d11)\n",
    "print(d12)"
   ]
  },
  {
   "cell_type": "code",
   "execution_count": null,
   "metadata": {},
   "outputs": [],
   "source": [
    "# retorna apenas valores do dicionario\n",
    "# dicionario.values()\n",
    "\n",
    "d13={5:\"Minuto\",4:\"Segundo\",6:\"Hora\"}\n",
    "print(d13)\n",
    "d13.values()\n"
   ]
  },
  {
   "cell_type": "markdown",
   "metadata": {},
   "source": [
    "# Conjuntos/Set\n",
    "\n",
    "* Conjuntos são coleções de elementos únicos\n",
    "* Principais características:\n",
    "   * Os elementos não são armazenados em uma ordem específica\n",
    "   * Conjuntos não contém elementos repetidos\n",
    "* Conjuntos não suportam indexação como as listas e tuplas"
   ]
  },
  {
   "cell_type": "code",
   "execution_count": null,
   "metadata": {},
   "outputs": [],
   "source": [
    "# Criando conjuntos vazios\n",
    "# Essa é a única forma de se criar um conjunto vazio\n",
    "conj_vazio1 = set() \n",
    "# As chaves são utilizadas para construir um dicionário vazio.\n",
    "conj_vazio2 = {} \n",
    "print(conj_vazio1)\n",
    "print(conj_vazio2)\n",
    "print()\n",
    "print(type(conj_vazio1))\n",
    "print(type(conj_vazio2))"
   ]
  },
  {
   "cell_type": "code",
   "execution_count": null,
   "metadata": {},
   "outputs": [],
   "source": [
    "# criamdo conjunto com elementos\n",
    "# os elementos são organizado por default, crescente\n",
    "# conjunto ou set, não suporta lista aninhada, mas aceitou tupla\n",
    "c1={1,9,5,3,2,7,6}\n",
    "c2={\"a\",\"b\",\"c\",\"d\",\"e\",\"f\",\"g\",\"h\"}\n",
    "c3={1,2,3,\"a\",\"b\",\"c\",3.14,7.15,True,False,(1,2,3)}\n",
    "c4={(1,2,3),(3.14,7.15),(\"a\",\"b\",\"c\"),(\"dia\",\"mês\",\"ano\"),(True,False)}\n",
    "print(c4)\n",
    "print(type(c4))"
   ]
  },
  {
   "cell_type": "code",
   "execution_count": null,
   "metadata": {},
   "outputs": [],
   "source": [
    "lt999=(1,2,3)\n",
    "print(type(lt999))"
   ]
  },
  {
   "cell_type": "markdown",
   "metadata": {},
   "source": [
    "## Como acessar elementos de um conjunto\n",
    "### Necessário for para acesso aos elementos de um conjunto/set\n",
    "### for x in conjunto:\n",
    "###       print(x)\n",
    "### O comando conjunto[índice] retorna erro, não o elemento"
   ]
  },
  {
   "cell_type": "code",
   "execution_count": null,
   "metadata": {},
   "outputs": [],
   "source": [
    "# para acessar elementos do conjunto/set\n",
    "# utilizar for\n",
    "for x in c4:\n",
    "    print(type(x))"
   ]
  },
  {
   "cell_type": "code",
   "execution_count": null,
   "metadata": {},
   "outputs": [],
   "source": [
    "# não retorna elemento, erro ao utilizar para acesso à elemento do conjunto/set\n",
    "c4[4]"
   ]
  },
  {
   "cell_type": "markdown",
   "metadata": {},
   "source": [
    "## Como modificar elementos de um conjunto\n",
    "### Nâo existe uma maneira de modificar elementos em um conjunto. \n",
    "### O que pode ser feito é a exclusão de um elemento, seguida da inserção de outro elemento"
   ]
  },
  {
   "cell_type": "markdown",
   "metadata": {},
   "source": [
    "## Principais métodos de um objeto conjunto\n",
    "\n",
    "Método | Descrição | Exemplo\n",
    ":----- | :-------- | :------\n",
    "add | Adiciona um elemento ao conjunto | `conj1.add(5)`\n",
    "clear  | Apaga todos os elementos de um conjunto | `conj1.clear()`\n",
    "copy | Retorna uma cópia dos elementos de um conjunto | `conj_copia = conj1.copy()`\n",
    "difference | Retorna o conjunto de elementos de conj1 que não pertencem a conj2 | `conj1.difference(conj2)`\n",
    "intersection | Retorna o conjunto de elementos presentes tanto em conj1 quanto em conj2 | `conj1.intersection(conj2)`\n",
    "isdisjoint | Retorna True se conj1 e conj2 forem disjuntos (ou seja, não possuem elementos em comum) | `conj1.isdisjoint(conj2)`\n",
    "issubset | Retorna True se conj1 for um subconjunto de conj2 (conj1 está contido em conj2) | `conj1.issubset(conj2)`\n",
    "issuperset | Retorna True se conj1 for um superconjunto de conj2 (conj1 contém conj2) | `conj1.issuperset(conj2)`\n",
    "remove e discard| Removem um elemento do conjunto | `conj1.remove(5)` ou `conj1.discard(5)`\n",
    "symmetric_difference | Retorna o conjunto de elementos que não são comuns aos dois conjuntos (o contrário da interseção)| `conj1.symmetric_difference(conj2)`\n",
    "union | Retorna a união entre 2 conjuntos | `conj1.union(conj2)`"
   ]
  },
  {
   "cell_type": "code",
   "execution_count": null,
   "metadata": {},
   "outputs": [],
   "source": [
    "# adicionando elementos ao cunjunto, caso seja repetido não será incluso\n",
    "# conjunto.add(elemento)\n",
    "# apenas umm elemento por vez\n",
    "c5={1,2,3}\n",
    "print(c5)\n",
    "c5.add(\"a\")\n",
    "print(c5)"
   ]
  },
  {
   "cell_type": "code",
   "execution_count": null,
   "metadata": {},
   "outputs": [],
   "source": [
    "# copiar os elementos de um conjunto para outro\n",
    "# conjunto_b=conjunto_a.copy()\n",
    "# os elementos contidos no conjunto serão aparados ao receber novos com o comando .copy()\n",
    "c6={\"dia\", \"mês\", \"ano\"}\n",
    "print(c6)\n",
    "c7=c6.copy()\n",
    "print(c7)\n",
    "print()\n",
    "c8={23, 3, 1982, 77}\n",
    "print(c8)\n",
    "c8=c7.copy()\n",
    "print(c8)\n",
    "c8.add(23.31982)\n",
    "print(c8)"
   ]
  },
  {
   "cell_type": "code",
   "execution_count": null,
   "metadata": {},
   "outputs": [],
   "source": [
    "# conj_3=conj_2.difference(conj_1)\n",
    "# Retorna o conjunto de elementos de conj1 que não pertencem a conj2\n",
    "c9={1,2,3,4,5}\n",
    "print(\"c9:\",c9)\n",
    "c10={4,5,6,7}\n",
    "print(\"c10:\",c10)\n",
    "c11=c9.difference(c10)\n",
    "print(\"Elementos contidos em c9, e não em c10:\",c11)\n",
    "c11=c10.difference(c9)\n",
    "print(\"Elementos contidos em c10, e não em c9:\",c11)\n"
   ]
  },
  {
   "cell_type": "code",
   "execution_count": null,
   "metadata": {},
   "outputs": [],
   "source": [
    "# Retorna o conjunto de elementos presentes tanto em conj1 quanto em conj2\n",
    "# conj_3=conj_2.intersection(conj_1)\n",
    "c12={1,2,3,4,5}\n",
    "c13={3,4,5,6,7}\n",
    "c14=c12.intersection(c13)\n",
    "print(\"Elementos contidos em c12 e c13, interseção:\",c14)"
   ]
  },
  {
   "cell_type": "code",
   "execution_count": null,
   "metadata": {},
   "outputs": [],
   "source": [
    "# Retorna True se conj1 e conj2 forem disjuntos (ou seja, não possuem elementos em comum)\n",
    "# conj_a.isdisjoint(conj_b)\n",
    "c5={\"a\",\"b\",\"c\",\"d\"}\n",
    "c6={\"a\",\"b\",\"c\",\"d\",\"e\"}\n",
    "print(\"c5 e c6 possuem elementos em comum:\",c5.isdisjoint(c6),\"não são disjuntos.\")\n",
    "print()\n",
    "c7={1,2,3,4}\n",
    "c8={5,6,7,8}\n",
    "print(\"c7 e c8 não possuem elementos em comum:\",c7.isdisjoint(c8), \"são disjuntos.\")"
   ]
  },
  {
   "cell_type": "code",
   "execution_count": null,
   "metadata": {},
   "outputs": [],
   "source": [
    "# Retorna True se conj1 for um subconjunto de conj2 (conj1 está contido em conj2)\n",
    "# conj_2.issubset(conj_1)\n",
    "c9={7,6,4,8,9}\n",
    "c10={7,6,4}\n",
    "print(\"c9:\",c9)\n",
    "print(\"c10:\",c10)\n",
    "print(\"c10 é subconjunto de c9?\",c10.issubset(c9))\n",
    "print(\"c9 pe subconjunto de c10?:\",c9.issubset(c10))"
   ]
  },
  {
   "cell_type": "code",
   "execution_count": null,
   "metadata": {},
   "outputs": [],
   "source": [
    "# Retorna True se conj1 for um superconjunto de conj2 (conj1 contém conj2)\n",
    "# conj_a.issuperset(conj_b)\n",
    "c11={2,3,4,5,6}\n",
    "c12={1,2,3,4,5,6,7,8,9}\n",
    "print(c11)\n",
    "print(c12)\n",
    "print()\n",
    "print(\"c11 contém c12?\",c11.issuperset(c12))\n",
    "print(\"c12 contém c11?\",c12.issuperset(c11))\n",
    "\n"
   ]
  },
  {
   "cell_type": "code",
   "execution_count": null,
   "metadata": {},
   "outputs": [],
   "source": [
    "# Removem um elemento do conjunto\n",
    "# retona erro caso o elemento não exista\n",
    "# conj_a.remove(elemento)\n",
    "\n",
    "# Removem um elemento do conjunto\n",
    "# NÃO retona erro caso o elemento não exista\n",
    "# conj_a.discard(elemento)\n",
    "\n",
    "c13={9,8,7,6,5}\n",
    "print(\"Elementos de c13:\",c13)\n",
    "c13.remove(6)\n",
    "print(\"Removendo o elemento 6:\",c13)\n",
    "print()\n",
    "c14={1,2,3,4,5,6}\n",
    "print(\"Elementos de c14:\",c14)\n",
    "c14.discard(4)\n",
    "print(\"Removendo o elemento 4:\",c14)"
   ]
  },
  {
   "cell_type": "code",
   "execution_count": null,
   "metadata": {},
   "outputs": [],
   "source": [
    "# Retorna o conjunto de elementos que não são comuns aos dois conjuntos (o contrário da interseção)\n",
    "# conj_a.symmetric_difference(conj_b)\n",
    "\n",
    "c15={1,2,3,4,5,6}\n",
    "c16={4,5,6,7,8,9}\n",
    "print(\"Elementos não comuns entre c15 e c16:\",c16.symmetric_difference(c15))\n",
    "print(\"Elementos não comuns entre c16 e c15:\",c15.symmetric_difference(c16))"
   ]
  },
  {
   "cell_type": "code",
   "execution_count": null,
   "metadata": {},
   "outputs": [],
   "source": [
    "# Retorna a união entre 2 conjuntos\n",
    "# conj_a.union(conj_b)\n",
    "# elemntos embaralhados, por quê?\n",
    "c17={\"a\",\"b\",\"c\"}\n",
    "c18={1,2,3}\n",
    "c19=c17.union(c18)\n",
    "print(\"Union entre c17 e c18:\",c19)"
   ]
  },
  {
   "cell_type": "markdown",
   "metadata": {},
   "source": [
    "## Funções aplicáveis a um conjunto\n",
    "### len() | retorna número de elementos em um conjunto |\n",
    "### max() | retorna o maior elemento de um conjunto |\n",
    "### min() | retorna o menor elemento de um conjunto |\n",
    "### sum() | retorna o somatório dos elementos de um conjunto |"
   ]
  },
  {
   "cell_type": "code",
   "execution_count": null,
   "metadata": {},
   "outputs": [],
   "source": [
    "# len() | retorna número de elementos em um conjunto |\n",
    "# max() | retorna o maior elemento de um conjunto |\n",
    "# min() | retorna o menor elemento de um conjunto |\n",
    "# sum() | retorna o somatório dos elementos de um conjunto |\n",
    "\n",
    "c20={1,2,3,4,5,6,7}\n",
    "print(\"Elementos de c20:\",c20)\n",
    "print(\"len() Número de elementos em c20:\",len(c20))\n",
    "print(\"max() Maior elemento em c20:\",max(c20))\n",
    "print(\"min() Menor elemento em c20:\",min(c20))\n",
    "print(\"sum() Somatório dos elementos de c20:\",sum(c20))"
   ]
  },
  {
   "cell_type": "code",
   "execution_count": null,
   "metadata": {},
   "outputs": [],
   "source": [
    "# Curiosidade (conversão de uma lista em um conjunto)\n",
    "# O que acontece se convertermos uma lista que contém elementos repetidos em um conjunto?\n",
    "lista = [1, 2, 4, 3, 2, 1, 5, 2, 3, 1, 6, 3, 4, 2]\n",
    "# Convertendo a lista em um conjunto\n",
    "conj_lista = set(lista)\n",
    "# Ao visualizar o conjunto obtido através da conversão da lista, vemos que não existem mais elementos repetidos\n",
    "conj_lista\n",
    "# Um conjunto não permite elementos repetidos, os na lista serão excluidos na conversão"
   ]
  },
  {
   "cell_type": "markdown",
   "metadata": {},
   "source": [
    "# Resumo: Tipos de Dados, expressões e operadores aritméticos, variáveis"
   ]
  },
  {
   "cell_type": "code",
   "execution_count": null,
   "metadata": {},
   "outputs": [],
   "source": [
    "nome = 'Python Academy'\n",
    "\n",
    "print(f\"Qual o melhor Blog sobre Python? {nome}!\")"
   ]
  },
  {
   "cell_type": "code",
   "execution_count": null,
   "metadata": {},
   "outputs": [],
   "source": [
    "print(\"Qual o melhor Blog sobre Python?:\", nome,\"!\")"
   ]
  },
  {
   "cell_type": "markdown",
   "metadata": {},
   "source": [
    "# --------------------------------------------------------------------------------------------------------\n",
    "# Tipos de dados\n",
    "\n",
    "Dados comuns do nosso dia-a-dia podem ser classificados em 4 tipos:\n",
    "\n",
    "                             - Inteiros: números sem casa decimal: 10, 5, -4\n",
    "                           /\n",
    "             - Numéricos - \n",
    "           /               \\\n",
    "          /                  - Reais: números com casa decima: 3.14, 1075.18, 0.0\n",
    "- Dados - \n",
    "          \\                      - Lógicos: True ou False\n",
    "           \\                   /\n",
    "             - Não numéricos - \n",
    "                               \\\n",
    "                                 - Texto (cadeia de caracteres): \"Python\", \"José Maria da Silva\", \"34567-890\"\n",
    "                                 \n",
    "O Python possui tipos primitivos para cada um desses tipos de dados. São eles o int, float, bool e o str.\n",
    "\n",
    "# Operadores aritméticos\n",
    "\n",
    "\n",
    "| Operador | Significado   | Exemplo                    |\n",
    "|:---|:---|:---|\n",
    "|     +    | Adição        | a = 3 + 2                  |\n",
    "|     -    | Subtração     | b = 7 - a                  |\n",
    "|     *    | Multiplicação | c = a * b                  |\n",
    "|     /    | Divisão       | d = 10/3                   |\n",
    "|    //    | Quociente     | e = 10//3                  |\n",
    "|     %    | Resto         | f = 10%3                   |\n",
    "|    **    | Exponenciação | g = 2 ** 3                 |\n",
    "|    **    | Radiciação    | h = 16 ** (1/2)            |\n",
    "\n",
    "## Precedência de Operadores\n",
    "\n",
    "1. Parênteses\n",
    "2. Potenciação\n",
    "3. Multiplicação e divisão\n",
    "4. Soma e substração\n",
    "# --------------------------------------------------------------------------------------------------------"
   ]
  },
  {
   "cell_type": "code",
   "execution_count": null,
   "metadata": {},
   "outputs": [],
   "source": [
    "# quociente // retorna o quociente da divisão  quoc=10//3\n",
    "# resto % retorna o resto da divisão rest=10%3\n",
    "\n",
    "quoc=10//3\n",
    "quoc1=10//2\n",
    "print(\"Quociente da divisão:\",quoc, quoc1)\n",
    "rest=10%3\n",
    "rest1=10%2\n",
    "print(\"Resto da divisão:\",rest, rest1)\n",
    "rest==0\n",
    "rest1==0"
   ]
  },
  {
   "cell_type": "code",
   "execution_count": null,
   "metadata": {},
   "outputs": [],
   "source": [
    "# exponenciação, elevar x à y\n",
    "# 2 elevado à 2\n",
    "# a=2**2\n",
    "\n",
    "# rediciação, raiz quadrada\n",
    "# a=16**(1/2)\n",
    "# a raiz quadrada pode ser obtida elevando um número à (1/2)\n",
    "\n",
    "a=2**2\n",
    "print(\"a recebe 2 elevado a 2(quadrado), resultado:\",a)\n",
    "b=2**3\n",
    "print(\"b recebe 2 elevado a 3(cubo), resultado:\",b)\n",
    "print()\n",
    "c=16**(1/2)\n",
    "d=27**(1/3)\n",
    "print(\"c recebe a raiz quadrada de 16, resultado:\",c)\n",
    "print(\"d recebe a raiz cúbica de 27, resultado:\",d)"
   ]
  },
  {
   "cell_type": "markdown",
   "metadata": {},
   "source": [
    "Ordem de prioridade no python:\n",
    "1. Parênteses\n",
    "2. Potenciação\n",
    "3. Multiplicação e divisão\n",
    "4. Soma e substração"
   ]
  },
  {
   "cell_type": "code",
   "execution_count": null,
   "metadata": {},
   "outputs": [],
   "source": [
    "# 8:39 retomar aula\n",
    "a=str(\"python\")\n",
    "b=\"python1\"\n",
    "\n",
    "print(a==b,a is b)"
   ]
  },
  {
   "cell_type": "markdown",
   "metadata": {},
   "source": [
    "## Linearizar(horizontalizar) equações"
   ]
  },
  {
   "cell_type": "code",
   "execution_count": null,
   "metadata": {},
   "outputs": [],
   "source": [
    "#Equação exemplo: 2+3*4/5-6\n",
    "eq1=2+3*4/5-6\n",
    "print(\"Seguindo a prioridade(parênteses,potenciação, multiplicaçã, divisão, soma e subitração):\",eq1)\n",
    "# alterando a ordem caso necessário\n",
    "eq2=(2+3)*4/(5-6)\n",
    "print(\"Exemplo de alteração com a utilização de (), novo resultado:\",eq2)"
   ]
  },
  {
   "cell_type": "markdown",
   "metadata": {},
   "source": [
    "Eq3. $ \\sqrt{\\frac{(2-3)^{2}}{4}}$\n"
   ]
  },
  {
   "cell_type": "code",
   "execution_count": null,
   "metadata": {},
   "outputs": [],
   "source": [
    "eq3= (((2-3)**2)/4)**(1/2)\n",
    "eq4= ((2-3)**2/4)**(1/2)\n",
    "print(eq3,eq4)\n",
    "eq3==eq4"
   ]
  },
  {
   "cell_type": "markdown",
   "metadata": {},
   "source": [
    "## Variáveis comandos de atribuição"
   ]
  },
  {
   "cell_type": "code",
   "execution_count": null,
   "metadata": {},
   "outputs": [],
   "source": [
    "# nomear variáveis com letras, números e _\n",
    "# iniciar nome apenas com letras ou _\n",
    "# não aplicar acentos \n",
    "\n",
    "# isinstance(valor,tipo)\n",
    "# isinstance(5,int)\n",
    "# retorna True ou False\n",
    "\n",
    "isinstance(5,int)\n",
    "isinstance(5,str)\n",
    "isinstance(5,float)\n",
    "isinstance(\"Python\",str)\n",
    "isinstance(\"Python\",int)\n",
    "\n"
   ]
  },
  {
   "cell_type": "markdown",
   "metadata": {},
   "source": [
    "## Imprimindo valores de variáveis"
   ]
  },
  {
   "cell_type": "code",
   "execution_count": null,
   "metadata": {},
   "outputs": [],
   "source": [
    "# print()\n",
    "\n",
    "a=1\n",
    "b=\"www\"\n",
    "c=3\n",
    "print(\"a\")\n",
    "print(a)\n",
    "\n",
    "print(\"Valor de a:\",a)\n",
    "print(\"Valor de a: \" +b) #utilizar o sinal \"+\" apenas para strings(str), a \",\" pode ser utilizada para qualquer tipo\n",
    "\n",
    "# método format\n",
    "# print(\"Meu nome é {} e tenho {} anos.\".format(variável,variável))\n",
    "# os valores serão substituídos pelas {}\n",
    "v1=\"Lopes\"\n",
    "v2=40\n",
    "print(\"Meu nome é {} e tenho {} anos.\".format(v1,v2))"
   ]
  },
  {
   "cell_type": "markdown",
   "metadata": {},
   "source": [
    "## Transformando equações matemáticas em expressões aritiméticas"
   ]
  },
  {
   "cell_type": "code",
   "execution_count": null,
   "metadata": {},
   "outputs": [],
   "source": [
    "# cálculo da área e perímetro do retângulo\n",
    "# area = base * altura\n",
    "# perímetro = 2 * ( base + altura )\n",
    "base=7\n",
    "altura=3\n",
    "perimet=2*(base+altura)\n",
    "\n",
    "perimet"
   ]
  },
  {
   "cell_type": "markdown",
   "metadata": {},
   "source": [
    "### Cálculo da área e comprimento da circunferência\n",
    "\n",
    "$ area = \\pi \\times raio^{2} $\n",
    "\n",
    "$ comprimento = 2 \\times \\pi * raio $"
   ]
  },
  {
   "cell_type": "code",
   "execution_count": null,
   "metadata": {},
   "outputs": [],
   "source": [
    "# area = 3.14 * (raio)**2\n",
    "\n",
    "# comprimento = 2 * 3.14 * raio\n",
    "\n",
    "raio = 2\n",
    "area = 3.14159 * raio ** 2\n",
    "comprimento = 2 * 3.14159 * raio\n",
    "print('Para o raio {}, a área = {} e o comprimento = {}'.format(raio, area, comprimento))"
   ]
  },
  {
   "cell_type": "markdown",
   "metadata": {},
   "source": [
    "### Cálculo da distância euclidiana entre 2 pontos no plano cartesiano\n",
    "\n",
    "$ distância = \\sqrt{(x_{1}-x_{2})^{2} + (y_{1}-y_{2})^{2}} $"
   ]
  },
  {
   "cell_type": "code",
   "execution_count": null,
   "metadata": {},
   "outputs": [],
   "source": [
    "# distancia=((x1-x2)**2+(y1-y2)**2)**(1/2) \n",
    "x1=3\n",
    "x2=7\n",
    "y1=5\n",
    "y2=9\n",
    "\n",
    "dist=((x1-x2)**2+(y1-y2)**2)**(1/2) \n",
    "dist\n",
    "print(\"A distância entre {},{},{},{} é:\".format(x1,x2,y1,y2))"
   ]
  },
  {
   "cell_type": "markdown",
   "metadata": {},
   "source": [
    "## Cálculo do delta e das raízes de uma equação do segundo grau\n",
    "\n",
    "$ \\Delta = b^{2} - 4ac $\n",
    "\n",
    "$ x = \\frac{-b \\pm \\sqrt{\\Delta}}{2a} $\n",
    "\n",
    "### Abaixo, fora do exemplo\n",
    "\n",
    "$ \\Delta = x^{2} $\n",
    "$ \\frac t$\n",
    "$ \\pm  $\n",
    "$ \\sqrt $\n",
    "$ \\pi $"
   ]
  },
  {
   "cell_type": "code",
   "execution_count": null,
   "metadata": {},
   "outputs": [],
   "source": [
    "a = 1\n",
    "b = -5\n",
    "c = 6\n",
    "\n",
    "delta=b**2-4*a*c\n",
    "\n",
    "x3=(-b+delta**(1/2))/2*a\n",
    "x4=(-b-delta**(1/2))/2*a\n",
    "\n",
    "print(\"Valores para delta:{},x1:{},x2:{}.\".format(delta,x3,x4))"
   ]
  },
  {
   "cell_type": "markdown",
   "metadata": {},
   "source": [
    "### Cálculo da área do setor circular (fatia de um círculo)\n",
    "\n",
    "$ S = \\frac{\\alpha \\pi r^{2}}{360} $"
   ]
  },
  {
   "cell_type": "code",
   "execution_count": null,
   "metadata": {},
   "outputs": [],
   "source": [
    "a = 45\n",
    "r = 15\n",
    "s=(a*3.14159*(r)**2)/360\n",
    "print(\"Círculo de raio:{}, setor circular ângulo:{}, teremos uma área de {} cm^2\".format(r,a,s))\n",
    "\n",
    "#Num círculo de raio 15cm, o setor circular de ângulo 45 terá área = 88.35721874999999 cm^2."
   ]
  },
  {
   "cell_type": "code",
   "execution_count": null,
   "metadata": {},
   "outputs": [],
   "source": [
    "teste_str=\"dia\"\n",
    "teste_int=1982\n",
    "teste_float=3.14159\n",
    "teste_bool=True\n",
    "print(\"valor \" + teste_str)\n"
   ]
  },
  {
   "cell_type": "code",
   "execution_count": null,
   "metadata": {},
   "outputs": [],
   "source": [
    "frase=\"Dia de treinamento.\"\n",
    "frase[7:18]"
   ]
  },
  {
   "cell_type": "code",
   "execution_count": null,
   "metadata": {},
   "outputs": [],
   "source": [
    "t999={}\n",
    "t888={1,2,3}"
   ]
  },
  {
   "cell_type": "code",
   "execution_count": null,
   "metadata": {},
   "outputs": [],
   "source": [
    "t999"
   ]
  },
  {
   "cell_type": "code",
   "execution_count": null,
   "metadata": {},
   "outputs": [],
   "source": [
    "listaprova=[(123),(234)]"
   ]
  },
  {
   "cell_type": "code",
   "execution_count": null,
   "metadata": {},
   "outputs": [],
   "source": [
    "print(type(listaprova))"
   ]
  },
  {
   "cell_type": "code",
   "execution_count": null,
   "metadata": {},
   "outputs": [],
   "source": [
    "tup1=(1,2,3,4,5)\n",
    "type(tup1)"
   ]
  },
  {
   "cell_type": "code",
   "execution_count": null,
   "metadata": {},
   "outputs": [],
   "source": [
    "tup1[2]"
   ]
  },
  {
   "cell_type": "code",
   "execution_count": null,
   "metadata": {},
   "outputs": [],
   "source": [
    "t = (1, 2, 3, [4, 5, 6])"
   ]
  },
  {
   "cell_type": "code",
   "execution_count": null,
   "metadata": {},
   "outputs": [],
   "source": [
    "t[3][0] = 7"
   ]
  },
  {
   "cell_type": "code",
   "execution_count": null,
   "metadata": {},
   "outputs": [],
   "source": [
    "t[3]"
   ]
  },
  {
   "cell_type": "code",
   "execution_count": null,
   "metadata": {},
   "outputs": [],
   "source": [
    "lista_=[7,8,9,0]"
   ]
  },
  {
   "cell_type": "code",
   "execution_count": null,
   "metadata": {},
   "outputs": [],
   "source": [
    "lista_"
   ]
  },
  {
   "cell_type": "code",
   "execution_count": null,
   "metadata": {},
   "outputs": [],
   "source": [
    "lista_[0]"
   ]
  },
  {
   "cell_type": "code",
   "execution_count": null,
   "metadata": {},
   "outputs": [],
   "source": [
    "lista_[0]=888"
   ]
  },
  {
   "cell_type": "code",
   "execution_count": null,
   "metadata": {},
   "outputs": [],
   "source": [
    "lista_\n"
   ]
  },
  {
   "cell_type": "code",
   "execution_count": null,
   "metadata": {},
   "outputs": [],
   "source": [
    "lista__=[(1,2,3,4),(7,8,9)]"
   ]
  },
  {
   "cell_type": "code",
   "execution_count": null,
   "metadata": {},
   "outputs": [],
   "source": [
    "type(lista__)"
   ]
  },
  {
   "cell_type": "code",
   "execution_count": null,
   "metadata": {},
   "outputs": [],
   "source": [
    "print(type(lista__[1]))"
   ]
  },
  {
   "cell_type": "code",
   "execution_count": null,
   "metadata": {},
   "outputs": [],
   "source": [
    "lisc=[[1,2,3],[9,8,7]]"
   ]
  },
  {
   "cell_type": "code",
   "execution_count": null,
   "metadata": {},
   "outputs": [],
   "source": [
    "type(lisc)"
   ]
  },
  {
   "cell_type": "code",
   "execution_count": null,
   "metadata": {},
   "outputs": [],
   "source": [
    "credo={}\n",
    "type(credo)"
   ]
  },
  {
   "cell_type": "code",
   "execution_count": null,
   "metadata": {},
   "outputs": [],
   "source": [
    "d = {'a': 0, 'b': 1, 'c': 0} \n",
    "if d['a'] > 0:\n",
    "   print('ok')\n",
    "elif d['b'] > 0:\n",
    "   print('obk')\n",
    "elif d['c'] > 0:\n",
    "   print('ok')\n",
    "elif d['d'] > 0:\n",
    "   print('ok')\n",
    "else:\n",
    "   print('not ok')"
   ]
  },
  {
   "cell_type": "code",
   "execution_count": null,
   "metadata": {},
   "outputs": [],
   "source": [
    "d = {'a': 0, 'b': 1, 'c': 0} \n",
    "if d['a'] > 0:\n",
    "   print('ooook')\n",
    "elif d['b'] > 0:\n",
    "   print('oooooooooooooook')\n",
    "elif d['c'] > 0:\n",
    "   print('ok')\n",
    "elif d['d'] > 0:\n",
    "   print('ok')\n",
    "else:\n",
    "   print('not ok')"
   ]
  },
  {
   "cell_type": "code",
   "execution_count": null,
   "metadata": {},
   "outputs": [],
   "source": [
    "\n",
    "(1>0)==(0<1)"
   ]
  },
  {
   "cell_type": "markdown",
   "metadata": {},
   "source": [
    "## Funções\n",
    "\n",
    "### def func (lista de parâmetros):\n",
    "### \"\"\"\n",
    "### Documentation String\n",
    "###  \"\"\"\n",
    "### bloco de comandos\n",
    "### return # opcional"
   ]
  },
  {
   "cell_type": "code",
   "execution_count": null,
   "metadata": {},
   "outputs": [],
   "source": [
    "# def func (lista de parâmetros):\n",
    "# \"\"\"\n",
    "# Documentation String\n",
    "#  \"\"\"\n",
    "# bloco de comandos\n",
    "# return # opcional"
   ]
  },
  {
   "cell_type": "code",
   "execution_count": null,
   "metadata": {},
   "outputs": [],
   "source": [
    "# exemplo 1\n",
    "# argumentos posicionais\n",
    "def func_01(a):\n",
    "    \"\"\"\n",
    "    Esse é o documentation string(docstring) da função func_01.\n",
    "    Essa função simplismente imprime o valor do argumento passado por parâmetro.\n",
    "    Sem retorno de valor, ex.: soma.\n",
    "    \"\"\"\n",
    "    print(a)"
   ]
  },
  {
   "cell_type": "code",
   "execution_count": null,
   "metadata": {},
   "outputs": [],
   "source": [
    "func_01(\"Bom dia.\")"
   ]
  },
  {
   "cell_type": "code",
   "execution_count": null,
   "metadata": {},
   "outputs": [],
   "source": [
    "# exemplo 2\n",
    "# argumentos posicionais\n",
    "def inc(num):\n",
    "    \"\"\"\n",
    "    Exemplo de função com retorno de valor.\n",
    "    Recebe o parâmetro, incrementa e retorna.\n",
    "    \"\"\"\n",
    "    return num+1"
   ]
  },
  {
   "cell_type": "code",
   "execution_count": null,
   "metadata": {},
   "outputs": [],
   "source": [
    "inc(7)"
   ]
  },
  {
   "cell_type": "code",
   "execution_count": null,
   "metadata": {},
   "outputs": [],
   "source": [
    "# exemplo 3\n",
    "# argumentos posicionais\n",
    "# a ordem de informar os parâmetros deve ser respeitada\n",
    "def raiz(r,num):\n",
    "    \"\"\"\n",
    "    Função com retorno de valor, calcula raiz com base no parâmetros informados.\n",
    "    Informar valor para índice(2 ou 3) e valor para radicando.\n",
    "    \"\"\"\n",
    "    print(\"Informar valor para índice(2 ou 3) e valor para radicando:\")\n",
    "    return num**(1/r)\n"
   ]
  },
  {
   "cell_type": "code",
   "execution_count": null,
   "metadata": {},
   "outputs": [],
   "source": [
    "raiz(3,27)"
   ]
  },
  {
   "cell_type": "code",
   "execution_count": null,
   "metadata": {},
   "outputs": [],
   "source": [
    "# exemplo 4\n",
    "# argumentos nomeados, não é necessário respeitar a ordem para informar os valores de parâmetros.\n",
    "# nomear os valores informados, ex.: radicando=27,indice=3\n",
    "def raiz_2(indice,radicando):\n",
    "    '''\n",
    "    Função com retorno de valor, raiz será calculada com base em parâmetros informados.\n",
    "    Argumentos nomeados, indice e radicando\n",
    "    '''\n",
    "    return radicando**(1/indice)"
   ]
  },
  {
   "cell_type": "code",
   "execution_count": null,
   "metadata": {},
   "outputs": [],
   "source": [
    "raiz_2(radicando=27,indice=3)"
   ]
  },
  {
   "cell_type": "code",
   "execution_count": null,
   "metadata": {},
   "outputs": [],
   "source": [
    "# exemplo 5\n",
    "# caso não seja informado pelo usuário o valor default será utilizado \n",
    "\n",
    "def raiz_default(rad, ind=2):\n",
    "    \"\"\"\n",
    "    Função com retorno.\n",
    "    Valor default para ind será 2 caso o usuário não informe.\n",
    "    \"\"\"\n",
    "    return rad**(1/ind)"
   ]
  },
  {
   "cell_type": "code",
   "execution_count": null,
   "metadata": {},
   "outputs": [],
   "source": [
    "raiz_default(9)"
   ]
  },
  {
   "cell_type": "code",
   "execution_count": null,
   "metadata": {},
   "outputs": [],
   "source": [
    "# exemplo 6\n",
    "# parâmetros arbritários, sem quantidade definida, os dados serão armazenados em uma tupla()\n",
    "# parâmetros arbitrários devem ser acompanhados de um * ex.: *num *valores *coffee\n",
    "# o * não faz parte do nome do parâmetro, apenas sinaliza que ele será arbitrário\n",
    "def soma_arb(*num):\n",
    "    \"\"\"\n",
    "    Função com retorno de valor.\n",
    "    Vaores arbitrários serão armazenados em uma tupla().\n",
    "    Devem ser ser acompanhados por * ex.: *dia *coffe *valor\n",
    "    \"\"\"\n",
    "    print(type(num))\n",
    "    soma_arb=0\n",
    "    for elementos in num:\n",
    "        soma_arb += elementos\n",
    "    return soma_arb"
   ]
  },
  {
   "cell_type": "code",
   "execution_count": null,
   "metadata": {},
   "outputs": [],
   "source": [
    "soma_arb(7,7,7,7,7)"
   ]
  },
  {
   "cell_type": "markdown",
   "metadata": {},
   "source": [
    "## Funções/Expressões Lambda\n",
    "-Também conhecidas como funções anônimas.\n",
    "\n",
    "-São funções definidas anonimamente e em uma única linha."
   ]
  },
  {
   "cell_type": "code",
   "execution_count": null,
   "metadata": {},
   "outputs": [],
   "source": [
    "# exemplo 7\n",
    "# funções ou expressões Lambda ou Anônimas\n",
    "# definidas anonimamente em uma única linha\n",
    "# ainda não é uma Lambda, possui três linhas\n",
    "\n",
    "def potencia1(num, pot):\n",
    "    result = num**pot\n",
    "    return result\n"
   ]
  },
  {
   "cell_type": "code",
   "execution_count": null,
   "metadata": {},
   "outputs": [],
   "source": [
    "potencia1(2,3)"
   ]
  },
  {
   "cell_type": "code",
   "execution_count": null,
   "metadata": {},
   "outputs": [],
   "source": [
    "# exemplo 8\n",
    "# funções ou expressões Lambda ou Anônimas\n",
    "# definidas anonimamente em uma única linha\n",
    "# ainda não é uma Lambda, possui duas linhas\n",
    "\n",
    "def potencia2(num, pot):\n",
    "    return num**pot"
   ]
  },
  {
   "cell_type": "code",
   "execution_count": null,
   "metadata": {},
   "outputs": [],
   "source": [
    "potencia2(2,3)"
   ]
  },
  {
   "cell_type": "code",
   "execution_count": null,
   "metadata": {},
   "outputs": [],
   "source": [
    "# exemplo 9\n",
    "# funções ou expressões Lambda ou Anônimas\n",
    "# definidas anonimamente em uma única linha\n",
    "# Lambda, possui uma linha\n",
    "\n",
    "def potencia3(num, pot): return num**pot"
   ]
  },
  {
   "cell_type": "code",
   "execution_count": null,
   "metadata": {},
   "outputs": [],
   "source": [
    "potencia3(2,4)"
   ]
  },
  {
   "cell_type": "code",
   "execution_count": null,
   "metadata": {},
   "outputs": [],
   "source": [
    "# exemplo 10\n",
    "# funções ou expressões Lambda ou Anônimas\n",
    "# definidas anonimamente em uma única linha\n",
    "# a função não deve ser nomeada def xyz(), mas iniciar com lambda\n",
    "# não utilizar () nos parâmetros\n",
    "# não utilizar return\n",
    "# ex.: lambda parâmetros: return ação #comentários\n",
    "\n",
    "lambda num, pot: num**pot #informar valores para cálculo de potência\n"
   ]
  },
  {
   "cell_type": "code",
   "execution_count": null,
   "metadata": {},
   "outputs": [],
   "source": [
    "# como utilizar uma função lambda\n",
    "# criar variável e adicionar a lambda criada anteriormente\n",
    "# ex.: lam_1=lambda num, pot: num**pot #informar valores para cálculo de potência\n",
    "\n",
    "lam_1=lambda num, pot: num**pot #informar valores para cálculo de potência\n"
   ]
  },
  {
   "cell_type": "code",
   "execution_count": null,
   "metadata": {},
   "outputs": [],
   "source": [
    "lam_1(2,3)"
   ]
  },
  {
   "cell_type": "code",
   "execution_count": null,
   "metadata": {},
   "outputs": [],
   "source": [
    "type(lam_1)"
   ]
  },
  {
   "cell_type": "code",
   "execution_count": null,
   "metadata": {},
   "outputs": [],
   "source": [
    "# exemplo de lambda\n",
    "quad = lambda num: num * num "
   ]
  },
  {
   "cell_type": "code",
   "execution_count": null,
   "metadata": {},
   "outputs": [],
   "source": [
    "quad(9)"
   ]
  },
  {
   "cell_type": "code",
   "execution_count": null,
   "metadata": {},
   "outputs": [],
   "source": [
    "par = lambda num: num %2 == 0"
   ]
  },
  {
   "cell_type": "code",
   "execution_count": null,
   "metadata": {},
   "outputs": [],
   "source": [
    "par(7)"
   ]
  },
  {
   "cell_type": "code",
   "execution_count": null,
   "metadata": {},
   "outputs": [],
   "source": [
    "par(6)"
   ]
  },
  {
   "cell_type": "code",
   "execution_count": null,
   "metadata": {},
   "outputs": [],
   "source": [
    "first=lambda x: x[0]"
   ]
  },
  {
   "cell_type": "code",
   "execution_count": null,
   "metadata": {},
   "outputs": [],
   "source": [
    "first(\"Cristopher.\")"
   ]
  },
  {
   "cell_type": "code",
   "execution_count": null,
   "metadata": {},
   "outputs": [],
   "source": [
    "first([[1,2,3],[7,8,9]])"
   ]
  },
  {
   "cell_type": "code",
   "execution_count": null,
   "metadata": {},
   "outputs": [],
   "source": [
    "# string informado como parâmetro\n",
    "inverter=lambda x: x[::-1]\n",
    "inv = inverter(\"Cristopher\")\n",
    "inv"
   ]
  },
  {
   "cell_type": "code",
   "execution_count": null,
   "metadata": {},
   "outputs": [],
   "source": [
    "# lista[] informada como parâmetro\n",
    "inverter([3,2,1])"
   ]
  },
  {
   "cell_type": "code",
   "execution_count": null,
   "metadata": {},
   "outputs": [],
   "source": [
    "import winsound\n",
    "winsound.Beep(440, 500)"
   ]
  },
  {
   "cell_type": "code",
   "execution_count": null,
   "metadata": {},
   "outputs": [],
   "source": [
    "winsound.Beep(32767,500)"
   ]
  },
  {
   "cell_type": "code",
   "execution_count": null,
   "metadata": {},
   "outputs": [],
   "source": [
    "type(winsound)"
   ]
  },
  {
   "cell_type": "code",
   "execution_count": null,
   "metadata": {},
   "outputs": [],
   "source": [
    "bissextos = list(filter(lambda ano: (ano % 400 == 0) or (ano % 4 == 0 and ano % 100 != 0), range(1900, 2021, 4)))\n",
    "type(bissextos)"
   ]
  },
  {
   "cell_type": "code",
   "execution_count": null,
   "metadata": {},
   "outputs": [],
   "source": [
    "bissextos2 = list(range(1900, 2021, 4))\n",
    "type(bissextos2)"
   ]
  },
  {
   "cell_type": "code",
   "execution_count": null,
   "metadata": {},
   "outputs": [],
   "source": [
    "bissextos3 = [ano for ano in range(1900, 2021, 4) if (ano % 400 == 0) or (ano % 4 == 0 and ano % 100 != 0)]\n",
    "type(bissextos3)"
   ]
  },
  {
   "cell_type": "code",
   "execution_count": null,
   "metadata": {},
   "outputs": [],
   "source": [
    "bissextos4 = [ano for ano in range(1900, 2021, 4) if (ano % 400 == 0) or (ano % 4 == 0 and ano % 100 != 0)]\n",
    "bissextos4"
   ]
  },
  {
   "cell_type": "code",
   "execution_count": null,
   "metadata": {},
   "outputs": [],
   "source": [
    "verde=\"era uma vez...\"\n",
    "type(verde)"
   ]
  },
  {
   "cell_type": "code",
   "execution_count": null,
   "metadata": {},
   "outputs": [],
   "source": [
    "#Suponha a seguinte declaração de uma lista:\n",
    "\n",
    "lista_aninhada = [ [1,2,3], [4,5,6,7], [8,9], [ [10,11,12], [13, 14, 15] ] ]\n",
    "\n",
    "#Que instrução retornará o número 13?"
   ]
  },
  {
   "cell_type": "code",
   "execution_count": null,
   "metadata": {},
   "outputs": [],
   "source": [
    "lista_aninhada"
   ]
  },
  {
   "cell_type": "code",
   "execution_count": null,
   "metadata": {},
   "outputs": [],
   "source": [
    "lista_aninhada[3]"
   ]
  },
  {
   "cell_type": "code",
   "execution_count": null,
   "metadata": {},
   "outputs": [],
   "source": [
    "lista_aninhada[3][1]"
   ]
  },
  {
   "cell_type": "code",
   "execution_count": null,
   "metadata": {},
   "outputs": [],
   "source": [
    "lista_aninhada[3][1][0]"
   ]
  },
  {
   "cell_type": "code",
   "execution_count": 161,
   "metadata": {},
   "outputs": [],
   "source": [
    "import winsound\n",
    "winsound.Beep(440, 500)"
   ]
  },
  {
   "cell_type": "code",
   "execution_count": 162,
   "metadata": {},
   "outputs": [],
   "source": [
    "estrutura_aninhada = ( [1,2,3],(4,5,6,7),[8,9],( [10,11,12], [(13, 14), 15] ) )"
   ]
  },
  {
   "cell_type": "code",
   "execution_count": 164,
   "metadata": {},
   "outputs": [
    {
     "data": {
      "text/plain": [
       "13"
      ]
     },
     "execution_count": 164,
     "metadata": {},
     "output_type": "execute_result"
    }
   ],
   "source": [
    "estrutura_aninhada[3][1][0][0]"
   ]
  },
  {
   "cell_type": "code",
   "execution_count": 165,
   "metadata": {},
   "outputs": [],
   "source": [
    "dic = { \"MG\": {\"Capital\": \"Belo Horizonte\", \n",
    "               \"Cidades\": {1:\"Contagem\", \n",
    "                           2:\"Luiz de Fora\", \n",
    "                           3:\"Sete Lagoas\"}\n",
    "              },\n",
    "        \"SP\": {\"Capital\": \"São Paulo\", \n",
    "               \"Cidades\": {1:\"Campinas\", \n",
    "                           2:\"Piracicaba\",\n",
    "                           3:\"Franca\"}\n",
    "              },\n",
    "        \"RS\": {\"Capital\": \"Porto Alegre\", \n",
    "               \"Cidades\": {1:\"Pelotas\", \n",
    "                           2:\"Gramado\", \n",
    "                           3:\"Canela\"}\n",
    "              } \n",
    "      }"
   ]
  },
  {
   "cell_type": "code",
   "execution_count": 166,
   "metadata": {},
   "outputs": [
    {
     "data": {
      "text/plain": [
       "{'MG': {'Capital': 'Belo Horizonte',\n",
       "  'Cidades': {1: 'Contagem', 2: 'Luiz de Fora', 3: 'Sete Lagoas'}},\n",
       " 'SP': {'Capital': 'São Paulo',\n",
       "  'Cidades': {1: 'Campinas', 2: 'Piracicaba', 3: 'Franca'}},\n",
       " 'RS': {'Capital': 'Porto Alegre',\n",
       "  'Cidades': {1: 'Pelotas', 2: 'Gramado', 3: 'Canela'}}}"
      ]
     },
     "execution_count": 166,
     "metadata": {},
     "output_type": "execute_result"
    }
   ],
   "source": [
    "dic"
   ]
  },
  {
   "cell_type": "code",
   "execution_count": 167,
   "metadata": {},
   "outputs": [
    {
     "data": {
      "text/plain": [
       "'Luiz de Fora'"
      ]
     },
     "execution_count": 167,
     "metadata": {},
     "output_type": "execute_result"
    }
   ],
   "source": [
    "dic[\"MG\"][\"Cidades\"][2]"
   ]
  },
  {
   "cell_type": "code",
   "execution_count": 168,
   "metadata": {},
   "outputs": [],
   "source": [
    "dic[\"MG\"][\"Cidades\"][2] = \"Juiz de Fora\""
   ]
  },
  {
   "cell_type": "code",
   "execution_count": 169,
   "metadata": {},
   "outputs": [
    {
     "data": {
      "text/plain": [
       "'Juiz de Fora'"
      ]
     },
     "execution_count": 169,
     "metadata": {},
     "output_type": "execute_result"
    }
   ],
   "source": [
    "dic[\"MG\"][\"Cidades\"][2]"
   ]
  },
  {
   "cell_type": "code",
   "execution_count": 170,
   "metadata": {},
   "outputs": [
    {
     "data": {
      "text/plain": [
       "{'MG': {'Capital': 'Belo Horizonte',\n",
       "  'Cidades': {1: 'Contagem', 2: 'Juiz de Fora', 3: 'Sete Lagoas'}},\n",
       " 'SP': {'Capital': 'São Paulo',\n",
       "  'Cidades': {1: 'Campinas', 2: 'Piracicaba', 3: 'Franca'}},\n",
       " 'RS': {'Capital': 'Porto Alegre',\n",
       "  'Cidades': {1: 'Pelotas', 2: 'Gramado', 3: 'Canela'}}}"
      ]
     },
     "execution_count": 170,
     "metadata": {},
     "output_type": "execute_result"
    }
   ],
   "source": [
    "dic"
   ]
  },
  {
   "cell_type": "code",
   "execution_count": 171,
   "metadata": {},
   "outputs": [
    {
     "data": {
      "text/plain": [
       "tuple"
      ]
     },
     "execution_count": 171,
     "metadata": {},
     "output_type": "execute_result"
    }
   ],
   "source": [
    "luz=(9,8,7)\n",
    "type(luz)"
   ]
  },
  {
   "cell_type": "code",
   "execution_count": 173,
   "metadata": {},
   "outputs": [
    {
     "ename": "TypeError",
     "evalue": "'tuple' object does not support item assignment",
     "output_type": "error",
     "traceback": [
      "\u001b[1;31m---------------------------------------------------------------------------\u001b[0m",
      "\u001b[1;31mTypeError\u001b[0m                                 Traceback (most recent call last)",
      "\u001b[1;32m<ipython-input-173-107325e233cc>\u001b[0m in \u001b[0;36m<module>\u001b[1;34m\u001b[0m\n\u001b[1;32m----> 1\u001b[1;33m \u001b[0mluz\u001b[0m\u001b[1;33m[\u001b[0m\u001b[1;36m0\u001b[0m\u001b[1;33m]\u001b[0m\u001b[1;33m=\u001b[0m\u001b[1;36m777\u001b[0m\u001b[1;33m\u001b[0m\u001b[1;33m\u001b[0m\u001b[0m\n\u001b[0m",
      "\u001b[1;31mTypeError\u001b[0m: 'tuple' object does not support item assignment"
     ]
    }
   ],
   "source": [
    "luz[0]=777"
   ]
  },
  {
   "cell_type": "code",
   "execution_count": 174,
   "metadata": {},
   "outputs": [
    {
     "name": "stdout",
     "output_type": "stream",
     "text": [
      "[9, 2, 5, 7, [12, 15, 18]]\n"
     ]
    }
   ],
   "source": [
    "A = [9, 2, 5, 7]\n",
    "B = [x for x in range(12,21,3)]\n",
    "A.append(B)\n",
    "print(A)"
   ]
  },
  {
   "cell_type": "code",
   "execution_count": 176,
   "metadata": {},
   "outputs": [
    {
     "name": "stdout",
     "output_type": "stream",
     "text": [
      "[7, 6, 5, 4, 3, 2]\n",
      "[10, 9, 8, 7, 6, 5, 4, 3, 2]\n"
     ]
    }
   ],
   "source": [
    "L=[]\n",
    "for i in range(10,1,-1):\n",
    "    L.append(i)\n",
    "print(L[3:])\n",
    "print(L)"
   ]
  },
  {
   "cell_type": "code",
   "execution_count": 177,
   "metadata": {},
   "outputs": [
    {
     "name": "stdout",
     "output_type": "stream",
     "text": [
      "9\n"
     ]
    }
   ],
   "source": [
    "from functools import reduce\n",
    "teste = [1, 9, 8, 2, 3, 7, 6, 4, 5]\n",
    "print(reduce(lambda n1, n2: n1 if n1 > n2 else n2, teste))"
   ]
  },
  {
   "cell_type": "code",
   "execution_count": 178,
   "metadata": {},
   "outputs": [
    {
     "name": "stdout",
     "output_type": "stream",
     "text": [
      "12\n"
     ]
    }
   ],
   "source": [
    "x = range(7)\n",
    "soma = sum(filter(lambda x_i: x_i % 2 == 0, x))\n",
    "print(soma)"
   ]
  },
  {
   "cell_type": "code",
   "execution_count": 179,
   "metadata": {},
   "outputs": [
    {
     "name": "stdout",
     "output_type": "stream",
     "text": [
      "1\n",
      "10\n"
     ]
    }
   ],
   "source": [
    "def func():\n",
    "    x = 1\n",
    "    print(x)\n",
    "\n",
    "x = 10\n",
    "func()\n",
    "print(x)"
   ]
  },
  {
   "cell_type": "code",
   "execution_count": null,
   "metadata": {},
   "outputs": [],
   "source": []
  }
 ],
 "metadata": {
  "kernelspec": {
   "display_name": "Python 3",
   "language": "python",
   "name": "python3"
  },
  "language_info": {
   "codemirror_mode": {
    "name": "ipython",
    "version": 3
   },
   "file_extension": ".py",
   "mimetype": "text/x-python",
   "name": "python",
   "nbconvert_exporter": "python",
   "pygments_lexer": "ipython3",
   "version": "3.8.5"
  }
 },
 "nbformat": 4,
 "nbformat_minor": 4
}
